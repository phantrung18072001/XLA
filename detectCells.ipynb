{
 "cells": [
  {
   "cell_type": "code",
   "execution_count": 1,
   "metadata": {
    "id": "oj8S_ZRWyjXW"
   },
   "outputs": [],
   "source": [
    "import matplotlib.pyplot as plt\n",
    "plt.rcParams['figure.figsize'] = [9, 8]\n",
    "import cv2\n",
    "import numpy as np\n",
    "import xml.etree.ElementTree as ET\n",
    "import glob\n",
    "import os"
   ]
  },
  {
   "cell_type": "code",
   "execution_count": 2,
   "metadata": {
    "id": "o16K5oJGyjXX"
   },
   "outputs": [],
   "source": [
    "def imshow(image):\n",
    "    if (len(image.shape)==2):\n",
    "        plt.imshow(image,cmap=\"gray\")\n",
    "    else:\n",
    "        plt.imshow(image[:,:,::-1])\n",
    "def resize(img, ratio):\n",
    "    width = int(img.shape[1] * ratio)\n",
    "    height = int(img.shape[0] * ratio)\n",
    "    dim = (width, height)\n",
    "    return cv2.resize(img, dim, interpolation = cv2.INTER_AREA)\n"
   ]
  },
  {
   "cell_type": "code",
   "execution_count": 3,
   "metadata": {},
   "outputs": [],
   "source": [
    "def iou(boxA, boxB):\n",
    "    # determine the (x, y)-coordinates of the intersection rectangle\n",
    "    xTopLeft = max(boxA[0], boxB[0])\n",
    "    yTopLeft = max(boxA[1], boxB[1])\n",
    "    xBottomRight = min(boxA[2], boxB[2])\n",
    "    yBottomRight = min(boxA[3], boxB[3])\n",
    "    # caculate intersection rectangle's area\n",
    "    interArea = max(0, xBottomRight - xTopLeft + 1) * max(0, yBottomRight - yTopLeft + 1)\n",
    "    # caculate boxes's area\n",
    "    boxAArea = (boxA[2] - boxA[0] + 1) * (boxA[3] - boxA[1] + 1)\n",
    "    boxBArea = (boxB[2] - boxB[0] + 1) * (boxB[3] - boxB[1] + 1)\n",
    "    # union area = areas - the interesection area\n",
    "    iou = interArea / float(boxAArea + boxBArea - interArea)\n",
    "    # return the intersection over union value\n",
    "    return iou"
   ]
  },
  {
   "cell_type": "code",
   "execution_count": 4,
   "metadata": {},
   "outputs": [],
   "source": [
    "# get coordinate of correct bounding box\n",
    "def getCorrectBound(filename):\n",
    "    name = filename.rsplit('.', 1)[0]\n",
    "    tree = ET.parse(name + \".xml\")\n",
    "    root = tree.getroot();\n",
    "    bounds = root.findall('.//bndbox')\n",
    "\n",
    "    # variable for store bounding box\n",
    "    bound_coordinates = []\n",
    "    for bound in bounds:\n",
    "        # xmin, ymin, xmax, ymax\n",
    "        coordinate = []\n",
    "        for tag in bound.findall('./*'):\n",
    "            coordinate.append(int(tag.text));\n",
    "        bound_coordinates.append(coordinate)\n",
    "\n",
    "    #draw bounding box on picture\n",
    "    image = cv2.imread(filename)\n",
    "    copy_image = image.copy()\n",
    "\n",
    "    for bound in bound_coordinates:\n",
    "        cv2.rectangle(copy_image,(bound[0],bound[1]),(bound[2],bound[3]),(0,0,255),1)\n",
    "    return bound_coordinates"
   ]
  },
  {
   "cell_type": "code",
   "execution_count": 21,
   "metadata": {},
   "outputs": [
    {
     "name": "stdout",
     "output_type": "stream",
     "text": [
      "Average of iou is 0.7797562956577212\n",
      "Total of correct cells is 3922\n"
     ]
    }
   ],
   "source": [
    "path = 'train/'\n",
    "iou_arr = []\n",
    "total_correct_cells = 0\n",
    "for filename in glob.glob(os.path.join(path, '*.png')):\n",
    "    image = cv2.imread(filename)\n",
    "    result = image.copy()\n",
    "    result = resize(result, 4)\n",
    "    \n",
    "    # correct bound\n",
    "    bound_coordinates = getCorrectBound(filename)\n",
    "    \n",
    "    # detect edge\n",
    "    gray = cv2.cvtColor(result,cv2.COLOR_BGR2GRAY)   \n",
    "    canny = cv2.Canny(gray, 10, 50)\n",
    "    cannyres = canny.copy()\n",
    "\n",
    "    #remove_horizontal\n",
    "    horizontal_kernel = cv2.getStructuringElement(cv2.MORPH_RECT, (40,1))\n",
    "    remove_horizontal = cv2.morphologyEx(cannyres, cv2.MORPH_OPEN, horizontal_kernel, iterations=1)\n",
    "    cnts = cv2.findContours(remove_horizontal, cv2.RETR_EXTERNAL, cv2.CHAIN_APPROX_SIMPLE)\n",
    "    cnts = cnts[0] if len(cnts) == 2 else cnts[1]\n",
    "    for c in cnts:\n",
    "        cv2.drawContours(canny, [c], -1, (0,0,0), 4)\n",
    "\n",
    "    #remove_vertical\n",
    "    vertical_kernel = cv2.getStructuringElement(cv2.MORPH_RECT, (1,28))\n",
    "    remove_vertical = cv2.morphologyEx(cannyres, cv2.MORPH_OPEN, vertical_kernel, iterations=2)\n",
    "    cnts = cv2.findContours(remove_vertical, cv2.RETR_EXTERNAL, cv2.CHAIN_APPROX_SIMPLE)\n",
    "    cnts = cnts[0] if len(cnts) == 2 else cnts[1]\n",
    "    for c in cnts:\n",
    "        cv2.drawContours(canny, [c], -1, (0,0,0), 4)\n",
    "    \n",
    "    kernel2 = cv2.getStructuringElement(cv2.MORPH_RECT, (12, 6))\n",
    "    connected = cv2.dilate(canny, kernel2, iterations=2)\n",
    "    connected = cv2.erode(connected, kernel2, iterations=2)\n",
    "\n",
    "    n_connected = resize(connected, 1/4)\n",
    "    contours, hierarchy = cv2.findContours(n_connected.copy(), cv2.RETR_EXTERNAL, cv2.CHAIN_APPROX_NONE)\n",
    "    \n",
    "    dt_bounds = []\n",
    "    image1 = image.copy()\n",
    "    for idx in range(len(contours)):\n",
    "        x, y, w, h = cv2.boundingRect(contours[idx])\n",
    "        if w > 4 and h > 4:\n",
    "            cv2.rectangle(image1, (x, y), (x+w-1, y+h-1), (255, 0, 0), 1)\n",
    "            dt_bound = [x,y,x+w-1,y+h-1]\n",
    "            dt_bounds.append(dt_bound)\n",
    "    for bound in bound_coordinates:\n",
    "        max_iou = 0\n",
    "        for dt_bound in dt_bounds:\n",
    "            iou_value = iou(dt_bound,bound)\n",
    "            max_iou = max(max_iou,iou_value)\n",
    "        if (max_iou > 0.5):\n",
    "            total_correct_cells += 1\n",
    "    iou_arr.append(max_iou)\n",
    "average_iou = sum(iou_arr)/len(iou_arr)\n",
    "print(\"Average of iou is %s\" %average_iou)\n",
    "print(\"Total of correct cells is %s\" %total_correct_cells)"
   ]
  },
  {
   "cell_type": "code",
   "execution_count": null,
   "metadata": {},
   "outputs": [],
   "source": []
  }
 ],
 "metadata": {
  "colab": {
   "collapsed_sections": [],
   "name": "final3.ipynb",
   "provenance": []
  },
  "interpreter": {
   "hash": "8cfd70ebb4616ad19f9f745d7bee8e34cd3733144238581c56b6c035f60b4f91"
  },
  "kernelspec": {
   "display_name": "Python 3",
   "language": "python",
   "name": "python3"
  },
  "language_info": {
   "codemirror_mode": {
    "name": "ipython",
    "version": 3
   },
   "file_extension": ".py",
   "mimetype": "text/x-python",
   "name": "python",
   "nbconvert_exporter": "python",
   "pygments_lexer": "ipython3",
   "version": "3.8.8"
  }
 },
 "nbformat": 4,
 "nbformat_minor": 1
}
